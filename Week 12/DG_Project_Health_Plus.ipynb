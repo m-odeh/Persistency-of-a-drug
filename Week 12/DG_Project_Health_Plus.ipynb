{
  "nbformat": 4,
  "nbformat_minor": 0,
  "metadata": {
    "accelerator": "GPU",
    "colab": {
      "name": "DG_Project_Health_Plus.ipynb",
      "provenance": [],
      "collapsed_sections": [],
      "toc_visible": true,
      "machine_shape": "hm"
    },
    "kernelspec": {
      "display_name": "Python 3",
      "language": "python",
      "name": "python3"
    },
    "language_info": {
      "codemirror_mode": {
        "name": "ipython",
        "version": 3
      },
      "file_extension": ".py",
      "mimetype": "text/x-python",
      "name": "python",
      "nbconvert_exporter": "python",
      "pygments_lexer": "ipython3",
      "version": "3.8.5"
    }
  },
  "cells": [
    {
      "cell_type": "markdown",
      "metadata": {
        "id": "sFyb0y7PUJOo"
      },
      "source": [
        "# Data Glacier Internship Final Project"
      ]
    },
    {
      "cell_type": "code",
      "metadata": {
        "colab": {
          "base_uri": "https://localhost:8080/"
        },
        "id": "Pna0vLc4NjvI",
        "outputId": "29f17ae2-e995-49e6-8670-160804050f0e"
      },
      "source": [
        "from google.colab import drive\n",
        "drive.mount('/content/GDrive')"
      ],
      "execution_count": 1,
      "outputs": [
        {
          "output_type": "stream",
          "text": [
            "Drive already mounted at /content/GDrive; to attempt to forcibly remount, call drive.mount(\"/content/GDrive\", force_remount=True).\n"
          ],
          "name": "stdout"
        }
      ]
    },
    {
      "cell_type": "code",
      "metadata": {
        "colab": {
          "base_uri": "https://localhost:8080/"
        },
        "id": "TPRJxbyENj93",
        "outputId": "22f04b1c-943e-4eea-892c-618be689ea0e"
      },
      "source": [
        "%cd /content/GDrive/MyDrive"
      ],
      "execution_count": 2,
      "outputs": [
        {
          "output_type": "stream",
          "text": [
            "/content/GDrive/MyDrive\n"
          ],
          "name": "stdout"
        }
      ]
    },
    {
      "cell_type": "code",
      "metadata": {
        "id": "u25UUMCoNqPc"
      },
      "source": [
        "import pandas as pd\n",
        "import numpy as np\n",
        "from keras.models import Sequential\n",
        "from keras.layers import Dense\n",
        "from numpy.random import seed\n",
        "from sklearn.metrics import classification_report\n",
        "from sklearn.model_selection import train_test_split\n",
        "from ml_models import *\n",
        "import matplotlib.pyplot as plt\n",
        "from matplotlib.pyplot import figure\n",
        "from sklearn.preprocessing import StandardScaler\n",
        "from sklearn.metrics import accuracy_score, precision_score, recall_score, f1_score, roc_curve, plot_roc_curve\n",
        "from sklearn.metrics import mean_squared_error, median_absolute_error, mean_absolute_error, auc\n",
        "from sklearn.metrics import confusion_matrix, plot_confusion_matrix, plot_roc_curve, classification_report"
      ],
      "execution_count": 3,
      "outputs": []
    },
    {
      "cell_type": "code",
      "metadata": {
        "colab": {
          "base_uri": "https://localhost:8080/",
          "height": 389
        },
        "id": "bV4SEVlSPrta",
        "outputId": "dda85503-de1a-4c79-c8dd-d68b7a2046d7"
      },
      "source": [
        "df_dummy = pd.read_excel('Dataset_Dummy.xlsx')\n",
        "df_dummy.head()"
      ],
      "execution_count": 4,
      "outputs": [
        {
          "output_type": "execute_result",
          "data": {
            "text/html": [
              "<div>\n",
              "<style scoped>\n",
              "    .dataframe tbody tr th:only-of-type {\n",
              "        vertical-align: middle;\n",
              "    }\n",
              "\n",
              "    .dataframe tbody tr th {\n",
              "        vertical-align: top;\n",
              "    }\n",
              "\n",
              "    .dataframe thead th {\n",
              "        text-align: right;\n",
              "    }\n",
              "</style>\n",
              "<table border=\"1\" class=\"dataframe\">\n",
              "  <thead>\n",
              "    <tr style=\"text-align: right;\">\n",
              "      <th></th>\n",
              "      <th>Unnamed: 0</th>\n",
              "      <th>Female</th>\n",
              "      <th>Male</th>\n",
              "      <th>African American</th>\n",
              "      <th>Asian</th>\n",
              "      <th>Caucasian</th>\n",
              "      <th>Other/Unknown</th>\n",
              "      <th>Hispanic</th>\n",
              "      <th>Not Hispanic</th>\n",
              "      <th>Unknown</th>\n",
              "      <th>Midwest</th>\n",
              "      <th>Northeast</th>\n",
              "      <th>Other/Unknown.1</th>\n",
              "      <th>South</th>\n",
              "      <th>West</th>\n",
              "      <th>55-65</th>\n",
              "      <th>65-75</th>\n",
              "      <th>&lt;55</th>\n",
              "      <th>&gt;75</th>\n",
              "      <th>CARDIOLOGY</th>\n",
              "      <th>CLINICAL NURSE SPECIALIST</th>\n",
              "      <th>EMERGENCY MEDICINE</th>\n",
              "      <th>ENDOCRINOLOGY</th>\n",
              "      <th>GASTROENTEROLOGY</th>\n",
              "      <th>GENERAL PRACTITIONER</th>\n",
              "      <th>GERIATRIC MEDICINE</th>\n",
              "      <th>HEMATOLOGY &amp; ONCOLOGY</th>\n",
              "      <th>HOSPICE AND PALLIATIVE MEDICINE</th>\n",
              "      <th>HOSPITAL MEDICINE</th>\n",
              "      <th>NEPHROLOGY</th>\n",
              "      <th>NEUROLOGY</th>\n",
              "      <th>NUCLEAR MEDICINE</th>\n",
              "      <th>OBSTETRICS &amp; OBSTETRICS &amp; GYNECOLOGY &amp; OBSTETRICS &amp; GYNECOLOGY</th>\n",
              "      <th>OBSTETRICS AND GYNECOLOGY</th>\n",
              "      <th>OCCUPATIONAL MEDICINE</th>\n",
              "      <th>ONCOLOGY</th>\n",
              "      <th>OPHTHALMOLOGY</th>\n",
              "      <th>ORTHOPEDIC SURGERY</th>\n",
              "      <th>ORTHOPEDICS</th>\n",
              "      <th>OTOLARYNGOLOGY</th>\n",
              "      <th>...</th>\n",
              "      <th>Comorb_Encntr_For_Oth_Sp_Exam_W_O_Complaint_Suspected_Or_Reprtd_Dx</th>\n",
              "      <th>Comorb_Long_Term_Current_Drug_Therapy</th>\n",
              "      <th>Comorb_Dorsalgia</th>\n",
              "      <th>Comorb_Personal_History_Of_Other_Diseases_And_Conditions</th>\n",
              "      <th>Comorb_Other_Disorders_Of_Bone_Density_And_Structure</th>\n",
              "      <th>Comorb_Disorders_of_lipoprotein_metabolism_and_other_lipidemias</th>\n",
              "      <th>Comorb_Osteoporosis_without_current_pathological_fracture</th>\n",
              "      <th>Comorb_Personal_history_of_malignant_neoplasm</th>\n",
              "      <th>Comorb_Gastro_esophageal_reflux_disease</th>\n",
              "      <th>Concom_Cholesterol_And_Triglyceride_Regulating_Preparations</th>\n",
              "      <th>Concom_Narcotics</th>\n",
              "      <th>Concom_Systemic_Corticosteroids_Plain</th>\n",
              "      <th>Concom_Anti_Depressants_And_Mood_Stabilisers</th>\n",
              "      <th>Concom_Fluoroquinolones</th>\n",
              "      <th>Concom_Cephalosporins</th>\n",
              "      <th>Concom_Macrolides_And_Similar_Types</th>\n",
              "      <th>Concom_Broad_Spectrum_Penicillins</th>\n",
              "      <th>Concom_Anaesthetics_General</th>\n",
              "      <th>Concom_Viral_Vaccines</th>\n",
              "      <th>Risk_Type_1_Insulin_Dependent_Diabetes</th>\n",
              "      <th>Risk_Osteogenesis_Imperfecta</th>\n",
              "      <th>Risk_Rheumatoid_Arthritis</th>\n",
              "      <th>Risk_Untreated_Chronic_Hyperthyroidism</th>\n",
              "      <th>Risk_Untreated_Chronic_Hypogonadism</th>\n",
              "      <th>Risk_Untreated_Early_Menopause</th>\n",
              "      <th>Risk_Patient_Parent_Fractured_Their_Hip</th>\n",
              "      <th>Risk_Smoking_Tobacco</th>\n",
              "      <th>Risk_Chronic_Malnutrition_Or_Malabsorption</th>\n",
              "      <th>Risk_Chronic_Liver_Disease</th>\n",
              "      <th>Risk_Family_History_Of_Osteoporosis</th>\n",
              "      <th>Risk_Low_Calcium_Intake</th>\n",
              "      <th>Risk_Vitamin_D_Insufficiency</th>\n",
              "      <th>Risk_Poor_Health_Frailty</th>\n",
              "      <th>Risk_Excessive_Thinness</th>\n",
              "      <th>Risk_Hysterectomy_Oophorectomy</th>\n",
              "      <th>Risk_Estrogen_Deficiency</th>\n",
              "      <th>Risk_Immobilization</th>\n",
              "      <th>Risk_Recurring_Falls</th>\n",
              "      <th>Count_Of_Risks</th>\n",
              "      <th>Persistency_Flag</th>\n",
              "    </tr>\n",
              "  </thead>\n",
              "  <tbody>\n",
              "    <tr>\n",
              "      <th>0</th>\n",
              "      <td>0</td>\n",
              "      <td>0</td>\n",
              "      <td>1</td>\n",
              "      <td>0</td>\n",
              "      <td>0</td>\n",
              "      <td>1</td>\n",
              "      <td>0</td>\n",
              "      <td>0</td>\n",
              "      <td>1</td>\n",
              "      <td>0</td>\n",
              "      <td>0</td>\n",
              "      <td>0</td>\n",
              "      <td>0</td>\n",
              "      <td>0</td>\n",
              "      <td>1</td>\n",
              "      <td>0</td>\n",
              "      <td>0</td>\n",
              "      <td>0</td>\n",
              "      <td>1</td>\n",
              "      <td>0</td>\n",
              "      <td>0</td>\n",
              "      <td>0</td>\n",
              "      <td>0</td>\n",
              "      <td>0</td>\n",
              "      <td>1</td>\n",
              "      <td>0</td>\n",
              "      <td>0</td>\n",
              "      <td>0</td>\n",
              "      <td>0</td>\n",
              "      <td>0</td>\n",
              "      <td>0</td>\n",
              "      <td>0</td>\n",
              "      <td>0</td>\n",
              "      <td>0</td>\n",
              "      <td>0</td>\n",
              "      <td>0</td>\n",
              "      <td>0</td>\n",
              "      <td>0</td>\n",
              "      <td>0</td>\n",
              "      <td>0</td>\n",
              "      <td>...</td>\n",
              "      <td>1</td>\n",
              "      <td>0</td>\n",
              "      <td>1</td>\n",
              "      <td>1</td>\n",
              "      <td>0</td>\n",
              "      <td>0</td>\n",
              "      <td>0</td>\n",
              "      <td>0</td>\n",
              "      <td>0</td>\n",
              "      <td>0</td>\n",
              "      <td>0</td>\n",
              "      <td>0</td>\n",
              "      <td>0</td>\n",
              "      <td>0</td>\n",
              "      <td>0</td>\n",
              "      <td>0</td>\n",
              "      <td>0</td>\n",
              "      <td>0</td>\n",
              "      <td>0</td>\n",
              "      <td>0</td>\n",
              "      <td>0</td>\n",
              "      <td>0</td>\n",
              "      <td>0</td>\n",
              "      <td>0</td>\n",
              "      <td>0</td>\n",
              "      <td>0</td>\n",
              "      <td>0</td>\n",
              "      <td>0</td>\n",
              "      <td>0</td>\n",
              "      <td>0</td>\n",
              "      <td>0</td>\n",
              "      <td>0</td>\n",
              "      <td>0</td>\n",
              "      <td>0</td>\n",
              "      <td>0</td>\n",
              "      <td>0</td>\n",
              "      <td>0</td>\n",
              "      <td>0</td>\n",
              "      <td>0</td>\n",
              "      <td>1</td>\n",
              "    </tr>\n",
              "    <tr>\n",
              "      <th>1</th>\n",
              "      <td>1</td>\n",
              "      <td>0</td>\n",
              "      <td>1</td>\n",
              "      <td>0</td>\n",
              "      <td>1</td>\n",
              "      <td>0</td>\n",
              "      <td>0</td>\n",
              "      <td>0</td>\n",
              "      <td>1</td>\n",
              "      <td>0</td>\n",
              "      <td>0</td>\n",
              "      <td>0</td>\n",
              "      <td>0</td>\n",
              "      <td>0</td>\n",
              "      <td>1</td>\n",
              "      <td>1</td>\n",
              "      <td>0</td>\n",
              "      <td>0</td>\n",
              "      <td>0</td>\n",
              "      <td>0</td>\n",
              "      <td>0</td>\n",
              "      <td>0</td>\n",
              "      <td>0</td>\n",
              "      <td>0</td>\n",
              "      <td>1</td>\n",
              "      <td>0</td>\n",
              "      <td>0</td>\n",
              "      <td>0</td>\n",
              "      <td>0</td>\n",
              "      <td>0</td>\n",
              "      <td>0</td>\n",
              "      <td>0</td>\n",
              "      <td>0</td>\n",
              "      <td>0</td>\n",
              "      <td>0</td>\n",
              "      <td>0</td>\n",
              "      <td>0</td>\n",
              "      <td>0</td>\n",
              "      <td>0</td>\n",
              "      <td>0</td>\n",
              "      <td>...</td>\n",
              "      <td>0</td>\n",
              "      <td>0</td>\n",
              "      <td>0</td>\n",
              "      <td>0</td>\n",
              "      <td>0</td>\n",
              "      <td>0</td>\n",
              "      <td>0</td>\n",
              "      <td>0</td>\n",
              "      <td>0</td>\n",
              "      <td>0</td>\n",
              "      <td>0</td>\n",
              "      <td>0</td>\n",
              "      <td>0</td>\n",
              "      <td>0</td>\n",
              "      <td>0</td>\n",
              "      <td>0</td>\n",
              "      <td>0</td>\n",
              "      <td>0</td>\n",
              "      <td>0</td>\n",
              "      <td>0</td>\n",
              "      <td>0</td>\n",
              "      <td>0</td>\n",
              "      <td>0</td>\n",
              "      <td>0</td>\n",
              "      <td>0</td>\n",
              "      <td>0</td>\n",
              "      <td>0</td>\n",
              "      <td>0</td>\n",
              "      <td>0</td>\n",
              "      <td>0</td>\n",
              "      <td>0</td>\n",
              "      <td>0</td>\n",
              "      <td>0</td>\n",
              "      <td>0</td>\n",
              "      <td>0</td>\n",
              "      <td>0</td>\n",
              "      <td>0</td>\n",
              "      <td>0</td>\n",
              "      <td>0</td>\n",
              "      <td>0</td>\n",
              "    </tr>\n",
              "    <tr>\n",
              "      <th>2</th>\n",
              "      <td>2</td>\n",
              "      <td>1</td>\n",
              "      <td>0</td>\n",
              "      <td>0</td>\n",
              "      <td>0</td>\n",
              "      <td>0</td>\n",
              "      <td>1</td>\n",
              "      <td>1</td>\n",
              "      <td>0</td>\n",
              "      <td>0</td>\n",
              "      <td>1</td>\n",
              "      <td>0</td>\n",
              "      <td>0</td>\n",
              "      <td>0</td>\n",
              "      <td>0</td>\n",
              "      <td>0</td>\n",
              "      <td>1</td>\n",
              "      <td>0</td>\n",
              "      <td>0</td>\n",
              "      <td>0</td>\n",
              "      <td>0</td>\n",
              "      <td>0</td>\n",
              "      <td>0</td>\n",
              "      <td>0</td>\n",
              "      <td>1</td>\n",
              "      <td>0</td>\n",
              "      <td>0</td>\n",
              "      <td>0</td>\n",
              "      <td>0</td>\n",
              "      <td>0</td>\n",
              "      <td>0</td>\n",
              "      <td>0</td>\n",
              "      <td>0</td>\n",
              "      <td>0</td>\n",
              "      <td>0</td>\n",
              "      <td>0</td>\n",
              "      <td>0</td>\n",
              "      <td>0</td>\n",
              "      <td>0</td>\n",
              "      <td>0</td>\n",
              "      <td>...</td>\n",
              "      <td>0</td>\n",
              "      <td>0</td>\n",
              "      <td>0</td>\n",
              "      <td>0</td>\n",
              "      <td>0</td>\n",
              "      <td>0</td>\n",
              "      <td>0</td>\n",
              "      <td>0</td>\n",
              "      <td>0</td>\n",
              "      <td>1</td>\n",
              "      <td>0</td>\n",
              "      <td>0</td>\n",
              "      <td>0</td>\n",
              "      <td>0</td>\n",
              "      <td>0</td>\n",
              "      <td>0</td>\n",
              "      <td>0</td>\n",
              "      <td>0</td>\n",
              "      <td>0</td>\n",
              "      <td>0</td>\n",
              "      <td>0</td>\n",
              "      <td>0</td>\n",
              "      <td>0</td>\n",
              "      <td>0</td>\n",
              "      <td>0</td>\n",
              "      <td>1</td>\n",
              "      <td>0</td>\n",
              "      <td>0</td>\n",
              "      <td>0</td>\n",
              "      <td>0</td>\n",
              "      <td>1</td>\n",
              "      <td>0</td>\n",
              "      <td>0</td>\n",
              "      <td>0</td>\n",
              "      <td>0</td>\n",
              "      <td>0</td>\n",
              "      <td>0</td>\n",
              "      <td>0</td>\n",
              "      <td>2</td>\n",
              "      <td>0</td>\n",
              "    </tr>\n",
              "    <tr>\n",
              "      <th>3</th>\n",
              "      <td>3</td>\n",
              "      <td>1</td>\n",
              "      <td>0</td>\n",
              "      <td>0</td>\n",
              "      <td>0</td>\n",
              "      <td>1</td>\n",
              "      <td>0</td>\n",
              "      <td>0</td>\n",
              "      <td>1</td>\n",
              "      <td>0</td>\n",
              "      <td>1</td>\n",
              "      <td>0</td>\n",
              "      <td>0</td>\n",
              "      <td>0</td>\n",
              "      <td>0</td>\n",
              "      <td>0</td>\n",
              "      <td>0</td>\n",
              "      <td>0</td>\n",
              "      <td>1</td>\n",
              "      <td>0</td>\n",
              "      <td>0</td>\n",
              "      <td>0</td>\n",
              "      <td>0</td>\n",
              "      <td>0</td>\n",
              "      <td>1</td>\n",
              "      <td>0</td>\n",
              "      <td>0</td>\n",
              "      <td>0</td>\n",
              "      <td>0</td>\n",
              "      <td>0</td>\n",
              "      <td>0</td>\n",
              "      <td>0</td>\n",
              "      <td>0</td>\n",
              "      <td>0</td>\n",
              "      <td>0</td>\n",
              "      <td>0</td>\n",
              "      <td>0</td>\n",
              "      <td>0</td>\n",
              "      <td>0</td>\n",
              "      <td>0</td>\n",
              "      <td>...</td>\n",
              "      <td>0</td>\n",
              "      <td>0</td>\n",
              "      <td>1</td>\n",
              "      <td>0</td>\n",
              "      <td>0</td>\n",
              "      <td>1</td>\n",
              "      <td>0</td>\n",
              "      <td>0</td>\n",
              "      <td>1</td>\n",
              "      <td>0</td>\n",
              "      <td>1</td>\n",
              "      <td>1</td>\n",
              "      <td>0</td>\n",
              "      <td>0</td>\n",
              "      <td>0</td>\n",
              "      <td>0</td>\n",
              "      <td>0</td>\n",
              "      <td>0</td>\n",
              "      <td>1</td>\n",
              "      <td>0</td>\n",
              "      <td>0</td>\n",
              "      <td>0</td>\n",
              "      <td>0</td>\n",
              "      <td>0</td>\n",
              "      <td>0</td>\n",
              "      <td>0</td>\n",
              "      <td>1</td>\n",
              "      <td>0</td>\n",
              "      <td>0</td>\n",
              "      <td>0</td>\n",
              "      <td>0</td>\n",
              "      <td>0</td>\n",
              "      <td>0</td>\n",
              "      <td>0</td>\n",
              "      <td>0</td>\n",
              "      <td>0</td>\n",
              "      <td>0</td>\n",
              "      <td>0</td>\n",
              "      <td>1</td>\n",
              "      <td>0</td>\n",
              "    </tr>\n",
              "    <tr>\n",
              "      <th>4</th>\n",
              "      <td>4</td>\n",
              "      <td>1</td>\n",
              "      <td>0</td>\n",
              "      <td>0</td>\n",
              "      <td>0</td>\n",
              "      <td>1</td>\n",
              "      <td>0</td>\n",
              "      <td>0</td>\n",
              "      <td>1</td>\n",
              "      <td>0</td>\n",
              "      <td>1</td>\n",
              "      <td>0</td>\n",
              "      <td>0</td>\n",
              "      <td>0</td>\n",
              "      <td>0</td>\n",
              "      <td>0</td>\n",
              "      <td>0</td>\n",
              "      <td>0</td>\n",
              "      <td>1</td>\n",
              "      <td>0</td>\n",
              "      <td>0</td>\n",
              "      <td>0</td>\n",
              "      <td>0</td>\n",
              "      <td>0</td>\n",
              "      <td>1</td>\n",
              "      <td>0</td>\n",
              "      <td>0</td>\n",
              "      <td>0</td>\n",
              "      <td>0</td>\n",
              "      <td>0</td>\n",
              "      <td>0</td>\n",
              "      <td>0</td>\n",
              "      <td>0</td>\n",
              "      <td>0</td>\n",
              "      <td>0</td>\n",
              "      <td>0</td>\n",
              "      <td>0</td>\n",
              "      <td>0</td>\n",
              "      <td>0</td>\n",
              "      <td>0</td>\n",
              "      <td>...</td>\n",
              "      <td>0</td>\n",
              "      <td>0</td>\n",
              "      <td>1</td>\n",
              "      <td>1</td>\n",
              "      <td>0</td>\n",
              "      <td>0</td>\n",
              "      <td>0</td>\n",
              "      <td>0</td>\n",
              "      <td>0</td>\n",
              "      <td>0</td>\n",
              "      <td>1</td>\n",
              "      <td>1</td>\n",
              "      <td>1</td>\n",
              "      <td>0</td>\n",
              "      <td>0</td>\n",
              "      <td>0</td>\n",
              "      <td>0</td>\n",
              "      <td>0</td>\n",
              "      <td>0</td>\n",
              "      <td>0</td>\n",
              "      <td>0</td>\n",
              "      <td>0</td>\n",
              "      <td>0</td>\n",
              "      <td>0</td>\n",
              "      <td>0</td>\n",
              "      <td>0</td>\n",
              "      <td>1</td>\n",
              "      <td>0</td>\n",
              "      <td>0</td>\n",
              "      <td>0</td>\n",
              "      <td>0</td>\n",
              "      <td>0</td>\n",
              "      <td>0</td>\n",
              "      <td>0</td>\n",
              "      <td>0</td>\n",
              "      <td>0</td>\n",
              "      <td>0</td>\n",
              "      <td>0</td>\n",
              "      <td>1</td>\n",
              "      <td>0</td>\n",
              "    </tr>\n",
              "  </tbody>\n",
              "</table>\n",
              "<p>5 rows × 120 columns</p>\n",
              "</div>"
            ],
            "text/plain": [
              "   Unnamed: 0  Female  ...  Count_Of_Risks  Persistency_Flag\n",
              "0           0       0  ...               0                 1\n",
              "1           1       0  ...               0                 0\n",
              "2           2       1  ...               2                 0\n",
              "3           3       1  ...               1                 0\n",
              "4           4       1  ...               1                 0\n",
              "\n",
              "[5 rows x 120 columns]"
            ]
          },
          "metadata": {
            "tags": []
          },
          "execution_count": 4
        }
      ]
    },
    {
      "cell_type": "code",
      "metadata": {
        "id": "eMhBhz1CrMb3"
      },
      "source": [
        "import os\n",
        "import pickle\n",
        "import numpy as np\n",
        "import pandas as pd\n",
        "import matplotlib.pyplot as plt\n",
        "from matplotlib.pyplot import figure\n",
        "import seaborn as sns\n",
        "import PIL\n",
        "import h5py\n",
        "import scipy\n",
        "import PIL.Image\n",
        "import numpy as np\n",
        "from sklearn.linear_model import LinearRegression, LogisticRegression\n",
        "from sklearn.model_selection import train_test_split\n",
        "from sklearn.pipeline import make_pipeline\n",
        "from sklearn.preprocessing import StandardScaler\n",
        "from sklearn.metrics import accuracy_score, precision_score, recall_score, f1_score, roc_curve, plot_roc_curve\n",
        "from sklearn.metrics import mean_squared_error, median_absolute_error, mean_absolute_error, auc\n",
        "from sklearn.metrics import confusion_matrix, plot_confusion_matrix, plot_roc_curve, classification_report\n",
        "from keras.layers import Input, Conv1D, MaxPooling1D, UpSampling1D, concatenate, BatchNormalization, Activation, add\n",
        "from keras.layers import Conv2D, MaxPooling2D, Reshape, Flatten, Dense\n",
        "from keras.models import Model, model_from_json\n",
        "from keras.optimizers import Adam\n",
        "from keras.callbacks import EarlyStopping, ModelCheckpoint\n",
        "from keras.utils import plot_model"
      ],
      "execution_count": 5,
      "outputs": []
    },
    {
      "cell_type": "code",
      "metadata": {
        "id": "vY_fCvF6LPG1"
      },
      "source": [
        "X_Data = df_dummy.iloc[:,0:-1].values\n",
        "Y_Data = df_dummy.iloc[:,-1].values"
      ],
      "execution_count": 5,
      "outputs": []
    },
    {
      "cell_type": "code",
      "metadata": {
        "colab": {
          "base_uri": "https://localhost:8080/"
        },
        "id": "mKVNuogtLPG1",
        "outputId": "4dcfc2ae-8170-4296-bf27-0b35303e330a"
      },
      "source": [
        "print(X_Data.shape)\n",
        "print(Y_Data.shape)"
      ],
      "execution_count": 6,
      "outputs": [
        {
          "output_type": "stream",
          "text": [
            "(3424, 119)\n",
            "(3424,)\n"
          ],
          "name": "stdout"
        }
      ]
    },
    {
      "cell_type": "code",
      "metadata": {
        "id": "5pxDlW--LPG2"
      },
      "source": [
        "X_Train, X_Test, Y_Train, Y_Test = train_test_split(X_Data, Y_Data, test_size=0.20, random_state=42)"
      ],
      "execution_count": 7,
      "outputs": []
    },
    {
      "cell_type": "code",
      "metadata": {
        "colab": {
          "base_uri": "https://localhost:8080/"
        },
        "id": "9F5SxVnDLPG3",
        "outputId": "0efaeace-ab31-4027-c7d2-7ba906f48388"
      },
      "source": [
        "print(X_Train.shape, X_Test.shape)\n",
        "print(Y_Train.shape, Y_Test.shape)"
      ],
      "execution_count": 8,
      "outputs": [
        {
          "output_type": "stream",
          "text": [
            "(2739, 119) (685, 119)\n",
            "(2739,) (685,)\n"
          ],
          "name": "stdout"
        }
      ]
    },
    {
      "cell_type": "code",
      "metadata": {
        "id": "E5eJlGIWLPG3"
      },
      "source": [
        "X_Train = X_Train.astype('int')\n",
        "X_Test = X_Test.astype('int')\n",
        "Y_Train = Y_Train.astype('int')\n",
        "Y_Test = Y_Test.astype('int')"
      ],
      "execution_count": 9,
      "outputs": []
    },
    {
      "cell_type": "markdown",
      "metadata": {
        "id": "2FEX5XCW_9Kj"
      },
      "source": [
        "## Random Forest Classifier"
      ]
    },
    {
      "cell_type": "code",
      "metadata": {
        "colab": {
          "base_uri": "https://localhost:8080/"
        },
        "id": "xIT1E6L7biTZ",
        "outputId": "87946440-43cb-43aa-fb24-48fbeca5c633"
      },
      "source": [
        "from sklearn.ensemble import RandomForestClassifier\n",
        "clf = RandomForestClassifier(n_estimators=100,min_samples_leaf=2,min_samples_split=3)\n",
        "clf = clf.fit(X_Train, Y_Train)\n",
        "Preds = clf.predict(X_Test)\n",
        "MAE = mean_absolute_error(Y_Test, Preds)\n",
        "Score = clf.score(X_Train, Y_Train)\n",
        "print(\"Mean Absolute Error is: %f\" % MAE)\n"
      ],
      "execution_count": 10,
      "outputs": [
        {
          "output_type": "stream",
          "text": [
            "Mean Absolute Error is: 0.197080\n"
          ],
          "name": "stdout"
        }
      ]
    },
    {
      "cell_type": "code",
      "metadata": {
        "colab": {
          "base_uri": "https://localhost:8080/"
        },
        "id": "FHqJIUK9LHHi",
        "outputId": "f4f6f13c-e16a-428c-d510-b964cb2d055a"
      },
      "source": [
        "# Round Predictions\n",
        "Predictions = np.zeros(len(Preds))\n",
        "for i in range(0,len(Preds)):\n",
        "  Predictions[i] = round(Preds[i])\n",
        "\n",
        "# Generate Confusion Matrix\n",
        "confusion_matrix(Y_Test, Predictions)"
      ],
      "execution_count": 11,
      "outputs": [
        {
          "output_type": "execute_result",
          "data": {
            "text/plain": [
              "array([[383,  48],\n",
              "       [ 87, 167]])"
            ]
          },
          "metadata": {
            "tags": []
          },
          "execution_count": 11
        }
      ]
    },
    {
      "cell_type": "code",
      "metadata": {
        "colab": {
          "base_uri": "https://localhost:8080/",
          "height": 295
        },
        "id": "WQ1rhT54LHJp",
        "outputId": "f3979b51-2daf-4a7b-fb7b-9ea0b7900b24"
      },
      "source": [
        "# Plot Normalized Confusion Matrix\n",
        "matrix = plot_confusion_matrix(clf, X_Test, Y_Test, normalize= 'true')\n",
        "plt.title('Confusion Matrix for Random Forest Classifier')\n",
        "plt.show(matrix)"
      ],
      "execution_count": 12,
      "outputs": [
        {
          "output_type": "display_data",
          "data": {
            "image/png": "[encoded data removed]",
            "text/plain": [
              "<Figure size 432x288 with 2 Axes>"
            ]
          },
          "metadata": {
            "tags": [],
            "needs_background": "light"
          }
        }
      ]
    },
    {
      "cell_type": "code",
      "metadata": {
        "colab": {
          "base_uri": "https://localhost:8080/"
        },
        "id": "LJr6xfbgLHML",
        "outputId": "d5ace34e-6207-4188-d1d4-aca7179a1a98"
      },
      "source": [
        "# Evaluating Parameters\n",
        "Accuracy = accuracy_score(Y_Test, Predictions)\n",
        "print(f'Accuracy = {Accuracy}')\n",
        "Precision = precision_score(Y_Test, Predictions, average= 'weighted')\n",
        "print(f'Precision = {Precision}')\n",
        "Recall = recall_score(Y_Test, Predictions, average= 'macro')\n",
        "print(f'Recall = {Recall}')\n",
        "f1_Score = f1_score(Y_Test, Predictions, average= 'weighted')\n",
        "print(f'f1-Score = {f1_Score}')"
      ],
      "execution_count": 13,
      "outputs": [
        {
          "output_type": "stream",
          "text": [
            "Accuracy = 0.8029197080291971\n",
            "Precision = 0.8007476966306338\n",
            "Recall = 0.7730557027239344\n",
            "f1-Score = 0.7989908718401675\n"
          ],
          "name": "stdout"
        }
      ]
    },
    {
      "cell_type": "code",
      "metadata": {
        "colab": {
          "base_uri": "https://localhost:8080/",
          "height": 295
        },
        "id": "qVyUnZYeLHPE",
        "outputId": "9f6fa2d8-7000-4123-a6a3-0d1871a0dad6"
      },
      "source": [
        "Probs= clf.predict_proba(X_Test)[:,1]\n",
        "fpr_RF, tpr_RF, threshold = roc_curve(Y_Test, Probs)\n",
        "roc_auc_RF = auc(fpr_RF, tpr_RF)\n",
        "#\n",
        "plt.title('ROC Curve for Random Forest Classifier')\n",
        "plt.plot(fpr_RF, tpr_RF, 'b', label = 'AUC = %0.2f' % roc_auc_RF)\n",
        "plt.legend(loc = 'lower right')\n",
        "plt.plot([0, 1], [0, 1],'r--')\n",
        "plt.xlim([0, 1])\n",
        "plt.ylim([0, 1])\n",
        "plt.ylabel('True Positive Rate')\n",
        "plt.xlabel('False Positive Rate')\n",
        "plt.show()"
      ],
      "execution_count": 14,
      "outputs": [
        {
          "output_type": "display_data",
          "data": {
            "image/png": "[encoded data removed]",
            "text/plain": [
              "<Figure size 432x288 with 1 Axes>"
            ]
          },
          "metadata": {
            "tags": [],
            "needs_background": "light"
          }
        }
      ]
    },
    {
      "cell_type": "markdown",
      "metadata": {
        "id": "AhU9vaipCSkc"
      },
      "source": [
        "## BaggingClassifier"
      ]
    },
    {
      "cell_type": "code",
      "metadata": {
        "colab": {
          "base_uri": "https://localhost:8080/"
        },
        "id": "tBUAw-pbCTbV",
        "outputId": "3e148c05-dd0e-4468-cd2e-50a1a7e692a1"
      },
      "source": [
        "from sklearn.ensemble import BaggingClassifier\n",
        "clf = BaggingClassifier(n_estimators=10, random_state=0)\n",
        "clf = clf.fit(X_Train, Y_Train)\n",
        "Preds=clf.predict(X_Test)\n",
        "MAE = mean_absolute_error(Y_Test, Preds)\n",
        "Score = clf.score(X_Train, Y_Train)\n",
        "print(\"Mean Absolute Error is: %f\" % MAE)\n"
      ],
      "execution_count": 15,
      "outputs": [
        {
          "output_type": "stream",
          "text": [
            "Mean Absolute Error is: 0.220438\n"
          ],
          "name": "stdout"
        }
      ]
    },
    {
      "cell_type": "code",
      "metadata": {
        "colab": {
          "base_uri": "https://localhost:8080/"
        },
        "id": "M1j5ru6qCTyO",
        "outputId": "c62cd6b6-3cc9-4d0e-df54-2c534a37b201"
      },
      "source": [
        "# Round Predictions\n",
        "Predictions = np.zeros(len(Preds))\n",
        "for i in range(0,len(Preds)):\n",
        "  Predictions[i] = round(Preds[i])\n",
        "\n",
        "# Generate Confusion Matrix\n",
        "confusion_matrix(Y_Test, Predictions)"
      ],
      "execution_count": 16,
      "outputs": [
        {
          "output_type": "execute_result",
          "data": {
            "text/plain": [
              "array([[370,  61],\n",
              "       [ 90, 164]])"
            ]
          },
          "metadata": {
            "tags": []
          },
          "execution_count": 16
        }
      ]
    },
    {
      "cell_type": "code",
      "metadata": {
        "colab": {
          "base_uri": "https://localhost:8080/",
          "height": 295
        },
        "id": "Q6TKij-yFHJt",
        "outputId": "fa52c785-85d8-479e-8361-dd4a1056f662"
      },
      "source": [
        "# Plot Normalized Confusion Matrix\n",
        "matrix = plot_confusion_matrix(clf, X_Test, Y_Test, normalize= 'true')\n",
        "plt.title('Confusion Matrix for Bagging Classifier')\n",
        "plt.show(matrix)"
      ],
      "execution_count": 17,
      "outputs": [
        {
          "output_type": "display_data",
          "data": {
            "image/png": "[encoded data removed]",
            "text/plain": [
              "<Figure size 432x288 with 2 Axes>"
            ]
          },
          "metadata": {
            "tags": [],
            "needs_background": "light"
          }
        }
      ]
    },
    {
      "cell_type": "code",
      "metadata": {
        "colab": {
          "base_uri": "https://localhost:8080/"
        },
        "id": "t9IataoREQeQ",
        "outputId": "f2130dad-ca6d-4ff2-bc18-eab3b7dcb32b"
      },
      "source": [
        "# Evaluating Parameters\n",
        "Accuracy = accuracy_score(Y_Test, Predictions)\n",
        "print(f'Accuracy = {Accuracy}')\n",
        "Precision = precision_score(Y_Test, Predictions, average= 'weighted')\n",
        "print(f'Precision = {Precision}')\n",
        "Recall = recall_score(Y_Test, Predictions, average= 'macro')\n",
        "print(f'Recall = {Recall}')\n",
        "f1_Score = f1_score(Y_Test, Predictions, average= 'weighted')\n",
        "print(f'f1-Score = {f1_Score}')"
      ],
      "execution_count": 18,
      "outputs": [
        {
          "output_type": "stream",
          "text": [
            "Accuracy = 0.7795620437956204\n",
            "Precision = 0.7763674318558481\n",
            "Recall = 0.752068984416391\n",
            "f1-Score = 0.7764764526712827\n"
          ],
          "name": "stdout"
        }
      ]
    },
    {
      "cell_type": "code",
      "metadata": {
        "colab": {
          "base_uri": "https://localhost:8080/",
          "height": 295
        },
        "id": "suN3D8mBFIO_",
        "outputId": "9556271e-4ff5-45f1-b6a4-7316e44ce8ea"
      },
      "source": [
        "Probs= clf.predict_proba(X_Test)[:,1]\n",
        "fpr_RF, tpr_RF, threshold = roc_curve(Y_Test, Probs)\n",
        "roc_auc_RF = auc(fpr_RF, tpr_RF)\n",
        "#\n",
        "plt.title('ROC Curve for Bagging Classifier')\n",
        "plt.plot(fpr_RF, tpr_RF, 'b', label = 'AUC = %0.2f' % roc_auc_RF)\n",
        "plt.legend(loc = 'lower right')\n",
        "plt.plot([0, 1], [0, 1],'r--')\n",
        "plt.xlim([0, 1])\n",
        "plt.ylim([0, 1])\n",
        "plt.ylabel('True Positive Rate')\n",
        "plt.xlabel('False Positive Rate')\n",
        "plt.show()"
      ],
      "execution_count": 19,
      "outputs": [
        {
          "output_type": "display_data",
          "data": {
            "image/png": "[encoded data removed]",
            "text/plain": [
              "<Figure size 432x288 with 1 Axes>"
            ]
          },
          "metadata": {
            "tags": [],
            "needs_background": "light"
          }
        }
      ]
    },
    {
      "cell_type": "markdown",
      "metadata": {
        "id": "dOv9xUm_Aek9"
      },
      "source": [
        "## Neural Network \n"
      ]
    },
    {
      "cell_type": "code",
      "metadata": {
        "id": "mWkIiOdC8-88"
      },
      "source": [
        "model = Sequential()\n",
        "model.add(Dense(24, input_dim=119, activation='relu'))\n",
        "model.add(Dense(12, activation='relu'))\n",
        "model.add(Dense(1, activation='sigmoid'))"
      ],
      "execution_count": 20,
      "outputs": []
    },
    {
      "cell_type": "code",
      "metadata": {
        "colab": {
          "base_uri": "https://localhost:8080/"
        },
        "id": "4ctvWloptMQU",
        "outputId": "a7fddb38-013f-4d41-c5fb-bf9abcd0093b"
      },
      "source": [
        "model.summary()"
      ],
      "execution_count": 21,
      "outputs": [
        {
          "output_type": "stream",
          "text": [
            "Model: \"sequential\"\n",
            "_________________________________________________________________\n",
            "Layer (type)                 Output Shape              Param #   \n",
            "=================================================================\n",
            "dense (Dense)                (None, 24)                2880      \n",
            "_________________________________________________________________\n",
            "dense_1 (Dense)              (None, 12)                300       \n",
            "_________________________________________________________________\n",
            "dense_2 (Dense)              (None, 1)                 13        \n",
            "=================================================================\n",
            "Total params: 3,193\n",
            "Trainable params: 3,193\n",
            "Non-trainable params: 0\n",
            "_________________________________________________________________\n"
          ],
          "name": "stdout"
        }
      ]
    },
    {
      "cell_type": "code",
      "metadata": {
        "id": "yyXMbanE9E8I"
      },
      "source": [
        "model.compile(loss='binary_crossentropy', optimizer='adam', metrics=['accuracy'])"
      ],
      "execution_count": 22,
      "outputs": []
    },
    {
      "cell_type": "code",
      "metadata": {
        "colab": {
          "base_uri": "https://localhost:8080/"
        },
        "id": "VvQBHE4K9I6y",
        "outputId": "4c6e989a-8eed-48bf-f67e-e4754a150da8"
      },
      "source": [
        "model.fit(X_Train, Y_Train, epochs=150, batch_size=10,shuffle=True)"
      ],
      "execution_count": 23,
      "outputs": [
        {
          "output_type": "stream",
          "text": [
            "Epoch 1/150\n",
            "274/274 [==============================] - 1s 2ms/step - loss: 17.7387 - accuracy: 0.5357\n",
            "Epoch 2/150\n",
            "274/274 [==============================] - 1s 2ms/step - loss: 0.5872 - accuracy: 0.7335\n",
            "Epoch 3/150\n",
            "274/274 [==============================] - 1s 2ms/step - loss: 0.5792 - accuracy: 0.7434\n",
            "Epoch 4/150\n",
            "274/274 [==============================] - 1s 2ms/step - loss: 0.5994 - accuracy: 0.7369\n",
            "Epoch 5/150\n",
            "274/274 [==============================] - 1s 2ms/step - loss: 0.5698 - accuracy: 0.7654\n",
            "Epoch 6/150\n",
            "274/274 [==============================] - 1s 2ms/step - loss: 0.5297 - accuracy: 0.7644\n",
            "Epoch 7/150\n",
            "274/274 [==============================] - 1s 2ms/step - loss: 0.5541 - accuracy: 0.7722\n",
            "Epoch 8/150\n",
            "274/274 [==============================] - 1s 2ms/step - loss: 0.5422 - accuracy: 0.7636\n",
            "Epoch 9/150\n",
            "274/274 [==============================] - 1s 2ms/step - loss: 0.4899 - accuracy: 0.7889\n",
            "Epoch 10/150\n",
            "274/274 [==============================] - 1s 2ms/step - loss: 0.4676 - accuracy: 0.7940\n",
            "Epoch 11/150\n",
            "274/274 [==============================] - 1s 2ms/step - loss: 0.5297 - accuracy: 0.7646\n",
            "Epoch 12/150\n",
            "274/274 [==============================] - 1s 2ms/step - loss: 0.4805 - accuracy: 0.7955\n",
            "Epoch 13/150\n",
            "274/274 [==============================] - 1s 2ms/step - loss: 0.4893 - accuracy: 0.7911\n",
            "Epoch 14/150\n",
            "274/274 [==============================] - 1s 2ms/step - loss: 0.4644 - accuracy: 0.7910\n",
            "Epoch 15/150\n",
            "274/274 [==============================] - 1s 2ms/step - loss: 0.5114 - accuracy: 0.7751\n",
            "Epoch 16/150\n",
            "274/274 [==============================] - 1s 2ms/step - loss: 0.4972 - accuracy: 0.7862\n",
            "Epoch 17/150\n",
            "274/274 [==============================] - 1s 2ms/step - loss: 0.4784 - accuracy: 0.7946\n",
            "Epoch 18/150\n",
            "274/274 [==============================] - 1s 2ms/step - loss: 0.4446 - accuracy: 0.8177\n",
            "Epoch 19/150\n",
            "274/274 [==============================] - 1s 2ms/step - loss: 0.4548 - accuracy: 0.7977\n",
            "Epoch 20/150\n",
            "274/274 [==============================] - 1s 2ms/step - loss: 0.4782 - accuracy: 0.7925\n",
            "Epoch 21/150\n",
            "274/274 [==============================] - 1s 2ms/step - loss: 0.4473 - accuracy: 0.8012\n",
            "Epoch 22/150\n",
            "274/274 [==============================] - 1s 2ms/step - loss: 0.4716 - accuracy: 0.7919\n",
            "Epoch 23/150\n",
            "274/274 [==============================] - 1s 2ms/step - loss: 0.4633 - accuracy: 0.8033\n",
            "Epoch 24/150\n",
            "274/274 [==============================] - 1s 2ms/step - loss: 0.4633 - accuracy: 0.7942\n",
            "Epoch 25/150\n",
            "274/274 [==============================] - 1s 2ms/step - loss: 0.4632 - accuracy: 0.7961\n",
            "Epoch 26/150\n",
            "274/274 [==============================] - 1s 2ms/step - loss: 0.4466 - accuracy: 0.8085\n",
            "Epoch 27/150\n",
            "274/274 [==============================] - 1s 2ms/step - loss: 0.4730 - accuracy: 0.7885\n",
            "Epoch 28/150\n",
            "274/274 [==============================] - 1s 2ms/step - loss: 0.4191 - accuracy: 0.8115\n",
            "Epoch 29/150\n",
            "274/274 [==============================] - 1s 2ms/step - loss: 0.4141 - accuracy: 0.8175\n",
            "Epoch 30/150\n",
            "274/274 [==============================] - 1s 2ms/step - loss: 0.4118 - accuracy: 0.8191\n",
            "Epoch 31/150\n",
            "274/274 [==============================] - 1s 2ms/step - loss: 0.4207 - accuracy: 0.8112\n",
            "Epoch 32/150\n",
            "274/274 [==============================] - 1s 2ms/step - loss: 0.4272 - accuracy: 0.8242\n",
            "Epoch 33/150\n",
            "274/274 [==============================] - 1s 2ms/step - loss: 0.4582 - accuracy: 0.7970\n",
            "Epoch 34/150\n",
            "274/274 [==============================] - 1s 2ms/step - loss: 0.4174 - accuracy: 0.8084\n",
            "Epoch 35/150\n",
            "274/274 [==============================] - 1s 2ms/step - loss: 0.4047 - accuracy: 0.8112\n",
            "Epoch 36/150\n",
            "274/274 [==============================] - 1s 2ms/step - loss: 0.4641 - accuracy: 0.7915\n",
            "Epoch 37/150\n",
            "274/274 [==============================] - 1s 2ms/step - loss: 0.4126 - accuracy: 0.8163\n",
            "Epoch 38/150\n",
            "274/274 [==============================] - 1s 2ms/step - loss: 0.3828 - accuracy: 0.8278\n",
            "Epoch 39/150\n",
            "274/274 [==============================] - 1s 2ms/step - loss: 0.4085 - accuracy: 0.8148\n",
            "Epoch 40/150\n",
            "274/274 [==============================] - 1s 2ms/step - loss: 0.4219 - accuracy: 0.8103\n",
            "Epoch 41/150\n",
            "274/274 [==============================] - 1s 2ms/step - loss: 0.4506 - accuracy: 0.8059\n",
            "Epoch 42/150\n",
            "274/274 [==============================] - 1s 2ms/step - loss: 0.4560 - accuracy: 0.7988\n",
            "Epoch 43/150\n",
            "274/274 [==============================] - 1s 2ms/step - loss: 0.4245 - accuracy: 0.8095\n",
            "Epoch 44/150\n",
            "274/274 [==============================] - 1s 2ms/step - loss: 0.4252 - accuracy: 0.8072\n",
            "Epoch 45/150\n",
            "274/274 [==============================] - 1s 2ms/step - loss: 0.4024 - accuracy: 0.8254\n",
            "Epoch 46/150\n",
            "274/274 [==============================] - 1s 2ms/step - loss: 0.4042 - accuracy: 0.8207\n",
            "Epoch 47/150\n",
            "274/274 [==============================] - 1s 2ms/step - loss: 0.3977 - accuracy: 0.8220\n",
            "Epoch 48/150\n",
            "274/274 [==============================] - 1s 2ms/step - loss: 0.4043 - accuracy: 0.8219\n",
            "Epoch 49/150\n",
            "274/274 [==============================] - 1s 2ms/step - loss: 0.4267 - accuracy: 0.8100\n",
            "Epoch 50/150\n",
            "274/274 [==============================] - 1s 2ms/step - loss: 0.4430 - accuracy: 0.8048\n",
            "Epoch 51/150\n",
            "274/274 [==============================] - 1s 2ms/step - loss: 0.4242 - accuracy: 0.7998\n",
            "Epoch 52/150\n",
            "274/274 [==============================] - 1s 2ms/step - loss: 0.4147 - accuracy: 0.8175\n",
            "Epoch 53/150\n",
            "274/274 [==============================] - 1s 2ms/step - loss: 0.3769 - accuracy: 0.8413\n",
            "Epoch 54/150\n",
            "274/274 [==============================] - 1s 2ms/step - loss: 0.4037 - accuracy: 0.8216\n",
            "Epoch 55/150\n",
            "274/274 [==============================] - 1s 2ms/step - loss: 0.4075 - accuracy: 0.8238\n",
            "Epoch 56/150\n",
            "274/274 [==============================] - 1s 2ms/step - loss: 0.3859 - accuracy: 0.8266\n",
            "Epoch 57/150\n",
            "274/274 [==============================] - 1s 2ms/step - loss: 0.4081 - accuracy: 0.8276\n",
            "Epoch 58/150\n",
            "274/274 [==============================] - 1s 2ms/step - loss: 0.4062 - accuracy: 0.8185\n",
            "Epoch 59/150\n",
            "274/274 [==============================] - 1s 2ms/step - loss: 0.3793 - accuracy: 0.8318\n",
            "Epoch 60/150\n",
            "274/274 [==============================] - 1s 2ms/step - loss: 0.4158 - accuracy: 0.8185\n",
            "Epoch 61/150\n",
            "274/274 [==============================] - 1s 2ms/step - loss: 0.4158 - accuracy: 0.8189\n",
            "Epoch 62/150\n",
            "274/274 [==============================] - 1s 2ms/step - loss: 0.3726 - accuracy: 0.8344\n",
            "Epoch 63/150\n",
            "274/274 [==============================] - 1s 2ms/step - loss: 0.4016 - accuracy: 0.8174\n",
            "Epoch 64/150\n",
            "274/274 [==============================] - 1s 2ms/step - loss: 0.4042 - accuracy: 0.8249\n",
            "Epoch 65/150\n",
            "274/274 [==============================] - 1s 2ms/step - loss: 0.4523 - accuracy: 0.7986\n",
            "Epoch 66/150\n",
            "274/274 [==============================] - 1s 2ms/step - loss: 0.4146 - accuracy: 0.8102\n",
            "Epoch 67/150\n",
            "274/274 [==============================] - 1s 2ms/step - loss: 0.4107 - accuracy: 0.8168\n",
            "Epoch 68/150\n",
            "274/274 [==============================] - 1s 2ms/step - loss: 0.3855 - accuracy: 0.8288\n",
            "Epoch 69/150\n",
            "274/274 [==============================] - 1s 2ms/step - loss: 0.3927 - accuracy: 0.8221\n",
            "Epoch 70/150\n",
            "274/274 [==============================] - 1s 2ms/step - loss: 0.3625 - accuracy: 0.8408\n",
            "Epoch 71/150\n",
            "274/274 [==============================] - 1s 2ms/step - loss: 0.3870 - accuracy: 0.8366\n",
            "Epoch 72/150\n",
            "274/274 [==============================] - 1s 2ms/step - loss: 0.3918 - accuracy: 0.8275\n",
            "Epoch 73/150\n",
            "274/274 [==============================] - 1s 2ms/step - loss: 0.3939 - accuracy: 0.8269\n",
            "Epoch 74/150\n",
            "274/274 [==============================] - 1s 2ms/step - loss: 0.3848 - accuracy: 0.8319\n",
            "Epoch 75/150\n",
            "274/274 [==============================] - 1s 2ms/step - loss: 0.3799 - accuracy: 0.8333\n",
            "Epoch 76/150\n",
            "274/274 [==============================] - 1s 2ms/step - loss: 0.3841 - accuracy: 0.8260\n",
            "Epoch 77/150\n",
            "274/274 [==============================] - 1s 2ms/step - loss: 0.4064 - accuracy: 0.8119\n",
            "Epoch 78/150\n",
            "274/274 [==============================] - 1s 2ms/step - loss: 0.3958 - accuracy: 0.8283\n",
            "Epoch 79/150\n",
            "274/274 [==============================] - 1s 2ms/step - loss: 0.3801 - accuracy: 0.8376\n",
            "Epoch 80/150\n",
            "274/274 [==============================] - 1s 2ms/step - loss: 0.3657 - accuracy: 0.8314\n",
            "Epoch 81/150\n",
            "274/274 [==============================] - 1s 2ms/step - loss: 0.3667 - accuracy: 0.8422\n",
            "Epoch 82/150\n",
            "274/274 [==============================] - 1s 2ms/step - loss: 0.3891 - accuracy: 0.8204\n",
            "Epoch 83/150\n",
            "274/274 [==============================] - 1s 2ms/step - loss: 0.3667 - accuracy: 0.8401\n",
            "Epoch 84/150\n",
            "274/274 [==============================] - 1s 2ms/step - loss: 0.3610 - accuracy: 0.8426\n",
            "Epoch 85/150\n",
            "274/274 [==============================] - 1s 2ms/step - loss: 0.3565 - accuracy: 0.8477\n",
            "Epoch 86/150\n",
            "274/274 [==============================] - 1s 2ms/step - loss: 0.3812 - accuracy: 0.8242\n",
            "Epoch 87/150\n",
            "274/274 [==============================] - 1s 2ms/step - loss: 0.3755 - accuracy: 0.8366\n",
            "Epoch 88/150\n",
            "274/274 [==============================] - 1s 2ms/step - loss: 0.3736 - accuracy: 0.8297\n",
            "Epoch 89/150\n",
            "274/274 [==============================] - 1s 2ms/step - loss: 0.3694 - accuracy: 0.8272\n",
            "Epoch 90/150\n",
            "274/274 [==============================] - 1s 2ms/step - loss: 0.3766 - accuracy: 0.8297\n",
            "Epoch 91/150\n",
            "274/274 [==============================] - 1s 2ms/step - loss: 0.3807 - accuracy: 0.8290\n",
            "Epoch 92/150\n",
            "274/274 [==============================] - 1s 2ms/step - loss: 0.3695 - accuracy: 0.8441\n",
            "Epoch 93/150\n",
            "274/274 [==============================] - 1s 2ms/step - loss: 0.3845 - accuracy: 0.8289\n",
            "Epoch 94/150\n",
            "274/274 [==============================] - 1s 2ms/step - loss: 0.3861 - accuracy: 0.8371\n",
            "Epoch 95/150\n",
            "274/274 [==============================] - 1s 2ms/step - loss: 0.3673 - accuracy: 0.8366\n",
            "Epoch 96/150\n",
            "274/274 [==============================] - 1s 2ms/step - loss: 0.3861 - accuracy: 0.8250\n",
            "Epoch 97/150\n",
            "274/274 [==============================] - 1s 2ms/step - loss: 0.3669 - accuracy: 0.8389\n",
            "Epoch 98/150\n",
            "274/274 [==============================] - 1s 2ms/step - loss: 0.3801 - accuracy: 0.8341\n",
            "Epoch 99/150\n",
            "274/274 [==============================] - 1s 2ms/step - loss: 0.3670 - accuracy: 0.8339\n",
            "Epoch 100/150\n",
            "274/274 [==============================] - 1s 2ms/step - loss: 0.3438 - accuracy: 0.8489\n",
            "Epoch 101/150\n",
            "274/274 [==============================] - 1s 2ms/step - loss: 0.3827 - accuracy: 0.8283\n",
            "Epoch 102/150\n",
            "274/274 [==============================] - 1s 2ms/step - loss: 0.3740 - accuracy: 0.8398\n",
            "Epoch 103/150\n",
            "274/274 [==============================] - 1s 2ms/step - loss: 0.3725 - accuracy: 0.8366\n",
            "Epoch 104/150\n",
            "274/274 [==============================] - 1s 2ms/step - loss: 0.3839 - accuracy: 0.8366\n",
            "Epoch 105/150\n",
            "274/274 [==============================] - 1s 2ms/step - loss: 0.3657 - accuracy: 0.8321\n",
            "Epoch 106/150\n",
            "274/274 [==============================] - 1s 2ms/step - loss: 0.3657 - accuracy: 0.8384\n",
            "Epoch 107/150\n",
            "274/274 [==============================] - 1s 2ms/step - loss: 0.3761 - accuracy: 0.8441\n",
            "Epoch 108/150\n",
            "274/274 [==============================] - 1s 2ms/step - loss: 0.3634 - accuracy: 0.8402\n",
            "Epoch 109/150\n",
            "274/274 [==============================] - 1s 2ms/step - loss: 0.3736 - accuracy: 0.8405\n",
            "Epoch 110/150\n",
            "274/274 [==============================] - 1s 2ms/step - loss: 0.3706 - accuracy: 0.8387\n",
            "Epoch 111/150\n",
            "274/274 [==============================] - 1s 2ms/step - loss: 0.3865 - accuracy: 0.8226\n",
            "Epoch 112/150\n",
            "274/274 [==============================] - 1s 2ms/step - loss: 0.3640 - accuracy: 0.8411\n",
            "Epoch 113/150\n",
            "274/274 [==============================] - 1s 2ms/step - loss: 0.3645 - accuracy: 0.8440\n",
            "Epoch 114/150\n",
            "274/274 [==============================] - 1s 2ms/step - loss: 0.3748 - accuracy: 0.8397\n",
            "Epoch 115/150\n",
            "274/274 [==============================] - 1s 2ms/step - loss: 0.3820 - accuracy: 0.8355\n",
            "Epoch 116/150\n",
            "274/274 [==============================] - 1s 2ms/step - loss: 0.3562 - accuracy: 0.8401\n",
            "Epoch 117/150\n",
            "274/274 [==============================] - 1s 2ms/step - loss: 0.3681 - accuracy: 0.8291\n",
            "Epoch 118/150\n",
            "274/274 [==============================] - 1s 2ms/step - loss: 0.3673 - accuracy: 0.8387\n",
            "Epoch 119/150\n",
            "274/274 [==============================] - 1s 2ms/step - loss: 0.3557 - accuracy: 0.8270\n",
            "Epoch 120/150\n",
            "274/274 [==============================] - 1s 2ms/step - loss: 0.3881 - accuracy: 0.8242\n",
            "Epoch 121/150\n",
            "274/274 [==============================] - 1s 2ms/step - loss: 0.3576 - accuracy: 0.8442\n",
            "Epoch 122/150\n",
            "274/274 [==============================] - 1s 2ms/step - loss: 0.3402 - accuracy: 0.8583\n",
            "Epoch 123/150\n",
            "274/274 [==============================] - 1s 2ms/step - loss: 0.3481 - accuracy: 0.8453\n",
            "Epoch 124/150\n",
            "274/274 [==============================] - 1s 2ms/step - loss: 0.3551 - accuracy: 0.8491\n",
            "Epoch 125/150\n",
            "274/274 [==============================] - 1s 2ms/step - loss: 0.3653 - accuracy: 0.8431\n",
            "Epoch 126/150\n",
            "274/274 [==============================] - 1s 2ms/step - loss: 0.3451 - accuracy: 0.8501\n",
            "Epoch 127/150\n",
            "274/274 [==============================] - 1s 2ms/step - loss: 0.3719 - accuracy: 0.8416\n",
            "Epoch 128/150\n",
            "274/274 [==============================] - 1s 2ms/step - loss: 0.3575 - accuracy: 0.8317\n",
            "Epoch 129/150\n",
            "274/274 [==============================] - 1s 2ms/step - loss: 0.3706 - accuracy: 0.8336\n",
            "Epoch 130/150\n",
            "274/274 [==============================] - 1s 2ms/step - loss: 0.3783 - accuracy: 0.8272\n",
            "Epoch 131/150\n",
            "274/274 [==============================] - 1s 2ms/step - loss: 0.3739 - accuracy: 0.8334\n",
            "Epoch 132/150\n",
            "274/274 [==============================] - 1s 2ms/step - loss: 0.3666 - accuracy: 0.8347\n",
            "Epoch 133/150\n",
            "274/274 [==============================] - 1s 2ms/step - loss: 0.3689 - accuracy: 0.8323\n",
            "Epoch 134/150\n",
            "274/274 [==============================] - 1s 2ms/step - loss: 0.3456 - accuracy: 0.8499\n",
            "Epoch 135/150\n",
            "274/274 [==============================] - 1s 2ms/step - loss: 0.3736 - accuracy: 0.8393\n",
            "Epoch 136/150\n",
            "274/274 [==============================] - 1s 2ms/step - loss: 0.3517 - accuracy: 0.8437\n",
            "Epoch 137/150\n",
            "274/274 [==============================] - 1s 2ms/step - loss: 0.3499 - accuracy: 0.8460\n",
            "Epoch 138/150\n",
            "274/274 [==============================] - 1s 2ms/step - loss: 0.3437 - accuracy: 0.8482\n",
            "Epoch 139/150\n",
            "274/274 [==============================] - 1s 2ms/step - loss: 0.3541 - accuracy: 0.8505\n",
            "Epoch 140/150\n",
            "274/274 [==============================] - 1s 2ms/step - loss: 0.3265 - accuracy: 0.8614\n",
            "Epoch 141/150\n",
            "274/274 [==============================] - 1s 2ms/step - loss: 0.3661 - accuracy: 0.8369\n",
            "Epoch 142/150\n",
            "274/274 [==============================] - 1s 2ms/step - loss: 0.3582 - accuracy: 0.8347\n",
            "Epoch 143/150\n",
            "274/274 [==============================] - 1s 2ms/step - loss: 0.3453 - accuracy: 0.8416\n",
            "Epoch 144/150\n",
            "274/274 [==============================] - 1s 2ms/step - loss: 0.3620 - accuracy: 0.8359\n",
            "Epoch 145/150\n",
            "274/274 [==============================] - 1s 2ms/step - loss: 0.3510 - accuracy: 0.8396\n",
            "Epoch 146/150\n",
            "274/274 [==============================] - 1s 2ms/step - loss: 0.3666 - accuracy: 0.8317\n",
            "Epoch 147/150\n",
            "274/274 [==============================] - 1s 2ms/step - loss: 0.3434 - accuracy: 0.8498\n",
            "Epoch 148/150\n",
            "274/274 [==============================] - 1s 2ms/step - loss: 0.3634 - accuracy: 0.8349\n",
            "Epoch 149/150\n",
            "274/274 [==============================] - 1s 2ms/step - loss: 0.3573 - accuracy: 0.8545\n",
            "Epoch 150/150\n",
            "274/274 [==============================] - 1s 2ms/step - loss: 0.3701 - accuracy: 0.8331\n"
          ],
          "name": "stdout"
        },
        {
          "output_type": "execute_result",
          "data": {
            "text/plain": [
              "<tensorflow.python.keras.callbacks.History at 0x7f66a0118050>"
            ]
          },
          "metadata": {
            "tags": []
          },
          "execution_count": 23
        }
      ]
    },
    {
      "cell_type": "code",
      "metadata": {
        "colab": {
          "base_uri": "https://localhost:8080/"
        },
        "id": "Gf3P8psk0AHw",
        "outputId": "41f19798-a1bb-42fd-d408-c8c665cfe00e"
      },
      "source": [
        "Y_pred = model.predict_classes(X_Test, verbose=0)\n",
        "Probs= model.predict_proba(X_Test)"
      ],
      "execution_count": 24,
      "outputs": [
        {
          "output_type": "stream",
          "text": [
            "/usr/local/lib/python3.7/dist-packages/tensorflow/python/keras/engine/sequential.py:450: UserWarning: `model.predict_classes()` is deprecated and will be removed after 2021-01-01. Please use instead:* `np.argmax(model.predict(x), axis=-1)`,   if your model does multi-class classification   (e.g. if it uses a `softmax` last-layer activation).* `(model.predict(x) > 0.5).astype(\"int32\")`,   if your model does binary classification   (e.g. if it uses a `sigmoid` last-layer activation).\n",
            "  warnings.warn('`model.predict_classes()` is deprecated and '\n",
            "/usr/local/lib/python3.7/dist-packages/tensorflow/python/keras/engine/sequential.py:425: UserWarning: `model.predict_proba()` is deprecated and will be removed after 2021-01-01. Please use `model.predict()` instead.\n",
            "  warnings.warn('`model.predict_proba()` is deprecated and '\n"
          ],
          "name": "stderr"
        }
      ]
    },
    {
      "cell_type": "code",
      "metadata": {
        "colab": {
          "base_uri": "https://localhost:8080/",
          "height": 295
        },
        "id": "FZQHx_p8HFTZ",
        "outputId": "8c96079c-2067-4282-c3d3-6f47c825c0e9"
      },
      "source": [
        "\n",
        "fpr_RF, tpr_RF, threshold = roc_curve(Y_Test, Probs)\n",
        "roc_auc_RF = auc(fpr_RF, tpr_RF)\n",
        "#\n",
        "plt.title('ROC Curve for Neural Network')\n",
        "plt.plot(fpr_RF, tpr_RF, 'b', label = 'AUC = %0.2f' % roc_auc_RF)\n",
        "plt.legend(loc = 'lower right')\n",
        "plt.plot([0, 1], [0, 1],'r--')\n",
        "plt.xlim([0, 1])\n",
        "plt.ylim([0, 1])\n",
        "plt.ylabel('True Positive Rate')\n",
        "plt.xlabel('False Positive Rate')\n",
        "plt.show()"
      ],
      "execution_count": 25,
      "outputs": [
        {
          "output_type": "display_data",
          "data": {
            "image/png": "[encoded data removed]",
            "text/plain": [
              "<Figure size 432x288 with 1 Axes>"
            ]
          },
          "metadata": {
            "tags": [],
            "needs_background": "light"
          }
        }
      ]
    },
    {
      "cell_type": "code",
      "metadata": {
        "colab": {
          "base_uri": "https://localhost:8080/"
        },
        "id": "UjdcSlpqHJFG",
        "outputId": "8812d98a-a316-4f2c-b120-b000a2be4e7b"
      },
      "source": [
        "\n",
        "print(classification_report(Y_Test, Y_pred))"
      ],
      "execution_count": 26,
      "outputs": [
        {
          "output_type": "stream",
          "text": [
            "              precision    recall  f1-score   support\n",
            "\n",
            "           0       0.83      0.87      0.85       431\n",
            "           1       0.76      0.70      0.73       254\n",
            "\n",
            "    accuracy                           0.81       685\n",
            "   macro avg       0.79      0.79      0.79       685\n",
            "weighted avg       0.80      0.81      0.80       685\n",
            "\n"
          ],
          "name": "stdout"
        }
      ]
    },
    {
      "cell_type": "code",
      "metadata": {
        "colab": {
          "base_uri": "https://localhost:8080/"
        },
        "id": "z8M1sfi_9S2M",
        "outputId": "65831a5e-d958-4b3f-be92-e46ae30057a8"
      },
      "source": [
        "_, accuracy = model.evaluate(X_Train, Y_Train)\n",
        "print('Accuracy: %.2f' % (accuracy*100))"
      ],
      "execution_count": 27,
      "outputs": [
        {
          "output_type": "stream",
          "text": [
            "86/86 [==============================] - 0s 2ms/step - loss: 0.3341 - accuracy: 0.8518\n",
            "Accuracy: 85.18\n"
          ],
          "name": "stdout"
        }
      ]
    },
    {
      "cell_type": "code",
      "metadata": {
        "colab": {
          "base_uri": "https://localhost:8080/"
        },
        "id": "KmfpxysuBWFO",
        "outputId": "ce615c25-1608-4cb8-e95d-1581996ff6fd"
      },
      "source": [
        "\n",
        "_, test_acc = model.evaluate(X_Test, Y_Test, verbose=0)\n",
        "print('Accuracy: %.2f' % (test_acc*100))"
      ],
      "execution_count": 28,
      "outputs": [
        {
          "output_type": "stream",
          "text": [
            "Accuracy: 80.58\n"
          ],
          "name": "stdout"
        }
      ]
    },
    {
      "cell_type": "code",
      "metadata": {
        "id": "4HoNqVJaRTx8"
      },
      "source": [
        ""
      ],
      "execution_count": 28,
      "outputs": []
    }
  ]
}